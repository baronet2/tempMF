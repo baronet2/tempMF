{
 "cells": [
  {
   "cell_type": "markdown",
   "id": "8cba4b44",
   "metadata": {},
   "source": [
    "## Import and Load"
   ]
  },
  {
   "cell_type": "code",
   "execution_count": 1,
   "id": "8b842d38",
   "metadata": {},
   "outputs": [],
   "source": [
    "import pandas as pd\n",
    "import numpy as np\n",
    "import torch\n",
    "import torch.nn as nn\n",
    "import torch.optim as optim\n",
    "import matplotlib.pyplot as plt"
   ]
  },
  {
   "cell_type": "code",
   "execution_count": 2,
   "id": "d12a6485",
   "metadata": {},
   "outputs": [
    {
     "data": {
      "text/plain": [
       "<torch._C.Generator at 0x203a5f73e90>"
      ]
     },
     "execution_count": 2,
     "metadata": {},
     "output_type": "execute_result"
    }
   ],
   "source": [
    "# seeds \n",
    "seed = 12341\n",
    "np.random.seed(seed)\n",
    "torch.manual_seed(seed)"
   ]
  },
  {
   "cell_type": "code",
   "execution_count": 3,
   "metadata": {
    "colab": {
     "base_uri": "https://localhost:8080/",
     "height": 808
    },
    "id": "fdfd55e6",
    "outputId": "91c0b3df-e2c9-4ac7-b083-113ddcc46721",
    "scrolled": true
   },
   "outputs": [
    {
     "data": {
      "text/plain": [
       "(46645, 5024)"
      ]
     },
     "execution_count": 3,
     "metadata": {},
     "output_type": "execute_result"
    }
   ],
   "source": [
    "df = pd.read_csv(\"data/ml-25m/ratings.csv\").dropna()\n",
    "df['time'] = pd.to_datetime(df['timestamp'], unit='s')\n",
    "df['rating'] = df['rating'] / df['rating'].max()\n",
    "\n",
    "train = (\n",
    "    df\n",
    "    .query(\"time.dt.year == 2019 & time.dt.month <= 5\")\n",
    ")\n",
    "\n",
    "test = (\n",
    "    df\n",
    "    .query(\"time.dt.year == 2019 & time.dt.month == 6\")\n",
    ")\n",
    "\n",
    "del df\n",
    "\n",
    "train = (\n",
    "    train\n",
    "    .loc[train.userId.isin(test.userId.unique()) & train.movieId.isin(test.movieId.unique())]\n",
    ")\n",
    "\n",
    "user_months = (\n",
    "    train\n",
    "    .assign(month = lambda d: d.time.dt.year.astype(str) + d.time.dt.month.astype(str))\n",
    "    .groupby('userId')\n",
    "    .month\n",
    "    .nunique()\n",
    ")\n",
    "\n",
    "users_to_keep = user_months[user_months == 5].index\n",
    "\n",
    "train = (\n",
    "    train\n",
    "    .loc[train.userId.isin(users_to_keep)]\n",
    ")\n",
    "\n",
    "test = (\n",
    "    test\n",
    "    .loc[test.userId.isin(train.userId.unique()) & test.movieId.isin(train.movieId.unique())]\n",
    ")\n",
    "\n",
    "len(train), len(test)"
   ]
  },
  {
   "cell_type": "code",
   "execution_count": 8,
   "id": "cf913dfc",
   "metadata": {},
   "outputs": [],
   "source": [
    "user_ids = list(train.userId.unique())\n",
    "train['user_id_for_model'] = train['userId'].apply(user_ids.index)\n",
    "test['user_id_for_model'] = test['userId'].apply(user_ids.index)\n",
    "\n",
    "movie_ids = list(train.movieId.unique())\n",
    "train['movie_id_for_model'] = train['movieId'].apply(movie_ids.index)\n",
    "test['movie_id_for_model'] = test['movieId'].apply(movie_ids.index)"
   ]
  },
  {
   "cell_type": "markdown",
   "id": "dc849f6e",
   "metadata": {},
   "source": [
    "## PMF"
   ]
  },
  {
   "cell_type": "code",
   "execution_count": 9,
   "id": "c3ca5f6a",
   "metadata": {},
   "outputs": [],
   "source": [
    "from numpy.random import RandomState\n",
    "\n",
    "class PMF(nn.Module):\n",
    "\tdef __init__(self, n_users, n_items, n_factors=20, is_sparse=False, no_cuda=None):\n",
    "\t\tsuper(PMF, self).__init__()\n",
    "\t\tself.n_users = n_users\n",
    "\t\tself.n_items = n_items\n",
    "\t\tself.n_factors = n_factors\n",
    "\t\tself.random_state = RandomState(1)\n",
    "\n",
    "\t\t# M,D\n",
    "\t\tself.user_embeddings = nn.Embedding(n_users, n_factors, sparse=is_sparse)\n",
    "\t\tself.user_embeddings.weight.data = torch.from_numpy(self.random_state.rand(n_users, n_factors)).float()\n",
    "\t\t\n",
    "\t\t# NxD\n",
    "\t\tself.item_embeddings = nn.Embedding(n_items, n_factors, sparse=is_sparse)\n",
    "\t\tself.item_embeddings.weight.data = torch.from_numpy(self.random_state.rand(n_items, n_factors)).float()\n",
    "\n",
    "\n",
    "\t\tself.relu = nn.ReLU()\n",
    "\t\n",
    "\tdef forward(self, users_index=None, items_index=None):\n",
    "\t\tif users_index is not None and items_index is not None:\n",
    "\t\t\tuser_h1 = self.user_embeddings(users_index)\n",
    "\t\t\titem_h1 = self.item_embeddings(items_index)\n",
    "\t\t\tR_h = torch.dot(user_h1, item_h1)\n",
    "\t\telse:\n",
    "\t\t\tR_h = self.item_embeddings.weight.data @ self.user_embeddings.weight.data.T\n",
    "\t\treturn nn.functional.sigmoid(R_h)\n",
    "\n",
    "\tdef __call__(self, *args):\n",
    "\t\treturn self.forward(*args)\n",
    "\n",
    "\n",
    "\tdef predict(self, users_index=None, items_index=None):\n",
    "\t\t# preds = self.forward(users_index, items_index)\n",
    "\t\tif users_index and items_index:\n",
    "\t\t\tpreds = self.forward(users_index, items_index)\n",
    "\t\telse:\n",
    "\t\t\tuser_h1 = self.user_embeddings(users_index)\n",
    "\t\t\titem_h1 = self.item_embeddings(items_index)\n",
    "\t\t\tpreds = (user_h1 * item_h1).sum(1)\n",
    "\t\treturn preds\n",
    "\n",
    "\n",
    "def RMSE(preds, truth):\n",
    "    return np.sqrt(np.mean(np.square(preds-truth)))"
   ]
  },
  {
   "cell_type": "code",
   "execution_count": 10,
   "id": "2b8b2f03",
   "metadata": {},
   "outputs": [
    {
     "name": "stdout",
     "output_type": "stream",
     "text": [
      "epoch 1\n",
      "epoch 2\n",
      "epoch 3\n",
      "epoch 4\n",
      "epoch 5\n",
      "epoch 6\n",
      "epoch 7\n",
      "epoch 8\n",
      "epoch 9\n",
      "epoch 10\n"
     ]
    },
    {
     "data": {
      "text/plain": [
       "[<matplotlib.lines.Line2D at 0x203b01a1790>]"
      ]
     },
     "execution_count": 10,
     "metadata": {},
     "output_type": "execute_result"
    },
    {
     "data": {
      "image/png": "[encoded data removed]",
      "text/plain": [
       "<Figure size 640x480 with 1 Axes>"
      ]
     },
     "metadata": {},
     "output_type": "display_data"
    }
   ],
   "source": [
    "model = PMF(n_users=train['user_id_for_model'].max() + 1, n_items=train['movie_id_for_model'].max() + 1, n_factors=2)\n",
    "\n",
    "epochs = 10\n",
    "lr = 0.1\n",
    "reg = 0.01\n",
    "\n",
    "loss_SGD = []\n",
    "\n",
    "for i in range(epochs):\n",
    "    print(\"epoch\", i + 1)\n",
    "    interim = 0\n",
    "    \n",
    "    for _, row in train.iterrows():\n",
    "      user, item = torch.tensor(row['user_id_for_model']).to(torch.int), torch.tensor(row['movie_id_for_model']).to(torch.int)\n",
    "      # making a pridiction in forward pass\n",
    "      y_hat = model.forward(users_index=user, items_index=item)\n",
    "      error = row['rating'] - y_hat\n",
    "\n",
    "      interim += np.square(error.detach().numpy())\n",
    "      \n",
    "      # updates\n",
    "      # Pi ← Pi + α(eij Qj − λPi ) \n",
    "      model.user_embeddings.weight.data[user, :] = \\\n",
    "        model.user_embeddings.weight.data[user, :] + \\\n",
    "        lr * (error * model.item_embeddings.weight.data[item, :] - reg * model.user_embeddings.weight.data[user, :])\n",
    "      # Qj ← Qj + α(eij Pi − λQj )\n",
    "      model.item_embeddings.weight.data[item, :] = \\\n",
    "        model.item_embeddings.weight.data[item, :] + \\\n",
    "        lr * (error * model.user_embeddings.weight.data[user, :] - reg * model.item_embeddings.weight.data[item, :])\n",
    "    loss_SGD.append(interim)\n",
    "\n",
    "plt.plot(loss_SGD)"
   ]
  },
  {
   "cell_type": "code",
   "execution_count": 12,
   "id": "18df3f06",
   "metadata": {},
   "outputs": [],
   "source": [
    "import pickle\n",
    "pickle.dump(model, open('pmf' + '.pkl', \"wb\"))"
   ]
  },
  {
   "cell_type": "code",
   "execution_count": 13,
   "id": "878ac8ef",
   "metadata": {},
   "outputs": [
    {
     "data": {
      "text/plain": [
       "46645"
      ]
     },
     "execution_count": 13,
     "metadata": {},
     "output_type": "execute_result"
    }
   ],
   "source": [
    "preds = []\n",
    "for _, row in train.iterrows():\n",
    "    user, item = torch.tensor(row['user_id_for_model']).to(torch.int), torch.tensor(row['movie_id_for_model']).to(torch.int)\n",
    "    preds.append(model.forward(users_index=user, items_index=item).detach().numpy())\n",
    "\n",
    "len(preds)"
   ]
  },
  {
   "cell_type": "code",
   "execution_count": 14,
   "id": "ec244679",
   "metadata": {},
   "outputs": [
    {
     "data": {
      "text/plain": [
       "0.15268061161032842"
      ]
     },
     "execution_count": 14,
     "metadata": {},
     "output_type": "execute_result"
    }
   ],
   "source": [
    "import numpy as np\n",
    "def rmse(y_true, y_pred):\n",
    "    return np.sqrt(np.mean((y_true - y_pred)**2))\n",
    "\n",
    "rmse(train['rating'], np.array(preds))"
   ]
  },
  {
   "cell_type": "code",
   "execution_count": 17,
   "id": "78479a25",
   "metadata": {},
   "outputs": [
    {
     "data": {
      "text/plain": [
       "0.170176743608102"
      ]
     },
     "execution_count": 17,
     "metadata": {},
     "output_type": "execute_result"
    }
   ],
   "source": [
    "preds = []\n",
    "for _, row in test.iterrows():\n",
    "    user, item = torch.tensor(row['user_id_for_model']).to(torch.int), torch.tensor(row['movie_id_for_model']).to(torch.int)\n",
    "    preds.append(model.forward(users_index=user, items_index=item).detach().numpy())\n",
    "rmse(test['rating'], np.array(preds))"
   ]
  },
  {
   "cell_type": "markdown",
   "id": "9f7bba5b",
   "metadata": {},
   "source": [
    "## TempMF"
   ]
  },
  {
   "cell_type": "code",
   "execution_count": 15,
   "id": "e3d9b5dc",
   "metadata": {},
   "outputs": [],
   "source": [
    "from numpy.random import RandomState\n",
    "\n",
    "class TempMF(nn.Module):\n",
    "\tdef __init__(self, n_users, t_steps, item_embeddings, n_factors=20, is_sparse=False, no_cuda=None):\n",
    "\t\tsuper(TempMF, self).__init__()\n",
    "\t\tself.n_users = n_users\n",
    "\n",
    "\t\tself.n_factors = n_factors\n",
    "\t\tself.random_state = RandomState(1)\n",
    "\n",
    "\t\tself.user_embeddings = torch.zeros([n_users, n_factors, t_steps])\n",
    "\n",
    "\t\t# N,D\n",
    "\t\tself.item_embeddings = item_embeddings\n",
    "\n",
    "\t\tself.relu = nn.ReLU()\n",
    "\t\n",
    "\tdef forward(self, time_index, users_index=None, items_index=None):\n",
    "\t\tif users_index!=None and items_index!=None:\n",
    "\t\t\tuser_h1 = self.user_embeddings[users_index,:,time_index]\n",
    "\t\t\titem_h1 = self.item_embeddings(items_index)\n",
    "\t\t\tR_h = torch.dot(user_h1, item_h1)\n",
    "\t\telse:\n",
    "\t\t\tR_h = self.item_embeddings.weight.data @ self.user_embeddings[:,:,time_index].T\n",
    "\t\treturn nn.functional.sigmoid(R_h)\n",
    "\n",
    "\tdef __call__(self, *args):\n",
    "\t\treturn self.forward(*args)\n",
    "\n",
    "\tdef predict(self, time_index, users_index=None, items_index=None):\n",
    "\t\tpreds = self.forward(time_index, users_index, items_index)\n",
    "\t\treturn preds"
   ]
  },
  {
   "cell_type": "code",
   "execution_count": 18,
   "id": "0e1edfb2",
   "metadata": {},
   "outputs": [
    {
     "data": {
      "text/plain": [
       "bin\n",
       "0    19509\n",
       "1     8448\n",
       "2     6725\n",
       "4     6272\n",
       "3     5691\n",
       "Name: count, dtype: int64"
      ]
     },
     "execution_count": 18,
     "metadata": {},
     "output_type": "execute_result"
    }
   ],
   "source": [
    "time_steps = 5\n",
    "train_updated = (\n",
    "    train\n",
    "    .assign(bin = lambda d: d.time.dt.month - 1)\n",
    ")\n",
    "\n",
    "train_updated['bin'].value_counts()"
   ]
  },
  {
   "cell_type": "code",
   "execution_count": 19,
   "id": "c7e57d4f",
   "metadata": {},
   "outputs": [
    {
     "name": "stdout",
     "output_type": "stream",
     "text": [
      "time: 1\n",
      "Epoch 0\n",
      "Epoch 1\n"
     ]
    }
   ],
   "source": [
    "tempMF = TempMF(n_users=model.n_users, t_steps=time_steps, item_embeddings=model.item_embeddings, n_factors=model.n_factors)\n",
    "\n",
    "epochs = 10\n",
    "lr = 0.1\n",
    "reg = 0.01\n",
    "\n",
    "loss_SGD = []\n",
    "\n",
    "# time\n",
    "for t in range(time_steps):\n",
    "    print(\"time:\", t + 1)\n",
    "    tempMF.user_embeddings[:,:,t] = model.user_embeddings.weight.data\n",
    "\n",
    "    # iterations\n",
    "    for iter in range(epochs):\n",
    "      print(f\"Epoch {iter}\")\n",
    "      interim = 0\n",
    "\n",
    "      # ratings\n",
    "      for _, row in train_updated[train_updated['bin'] == t].iterrows():\n",
    "        user, item = torch.tensor(row['user_id_for_model']).to(torch.int), torch.tensor(row['movie_id_for_model']).to(torch.int)\n",
    "        y_hat = tempMF.forward(time_index=t, users_index=user, items_index=item)\n",
    "        error = row['rating'] - y_hat\n",
    "        interim += np.square(error.detach().numpy())\n",
    "        \n",
    "        tempMF.user_embeddings[user, :, t] = \\\n",
    "          tempMF.user_embeddings[user, :, t] + \\\n",
    "          lr * (error * tempMF.item_embeddings.weight.data[item, :] - reg * tempMF.user_embeddings[user, :, t])\n",
    "      loss_SGD.append(interim)\n",
    "\n",
    "plt.plot(loss_SGD)"
   ]
  },
  {
   "cell_type": "code",
   "execution_count": 221,
   "id": "a4e3dcd6",
   "metadata": {},
   "outputs": [
    {
     "data": {
      "text/plain": [
       "[<matplotlib.lines.Line2D at 0x2345213c650>]"
      ]
     },
     "execution_count": 221,
     "metadata": {},
     "output_type": "execute_result"
    },
    {
     "data": {
      "image/png": "[encoded data removed]",
      "text/plain": [
       "<Figure size 640x480 with 1 Axes>"
      ]
     },
     "metadata": {},
     "output_type": "display_data"
    }
   ],
   "source": [
    "plt.plot(loss_SGD)"
   ]
  },
  {
   "cell_type": "code",
   "execution_count": 222,
   "id": "1854c1dd",
   "metadata": {},
   "outputs": [
    {
     "data": {
      "text/plain": [
       "0.1530349670712741"
      ]
     },
     "execution_count": 222,
     "metadata": {},
     "output_type": "execute_result"
    }
   ],
   "source": [
    "preds = []\n",
    "for _, row in train_updated.iterrows():\n",
    "    user, item = torch.tensor(row['user_id_for_model']).to(torch.int), torch.tensor(row['movie_id_for_model']).to(torch.int)\n",
    "    preds.append(tempMF.forward(time_index = torch.tensor(row['bin']).to(torch.int), users_index=user, items_index=item).detach().numpy())\n",
    "\n",
    "rmse(train_updated['rating'], np.array(preds))"
   ]
  },
  {
   "cell_type": "code",
   "execution_count": 223,
   "id": "b5b00ad1",
   "metadata": {},
   "outputs": [
    {
     "data": {
      "text/plain": [
       "0.15427275293533046"
      ]
     },
     "execution_count": 223,
     "metadata": {},
     "output_type": "execute_result"
    }
   ],
   "source": [
    "preds = []\n",
    "for _, row in train_updated.iterrows():\n",
    "    user, item = torch.tensor(row['user_id_for_model']).to(torch.int), torch.tensor(row['movie_id_for_model']).to(torch.int)\n",
    "    preds.append(tempMF.forward(time_index = torch.tensor(0).to(torch.int), users_index=user, items_index=item).detach().numpy())\n",
    "rmse(train_updated['rating'], np.array(preds))"
   ]
  },
  {
   "cell_type": "markdown",
   "id": "7f8f1874",
   "metadata": {},
   "source": [
    "#### Lasso Regression: Drift"
   ]
  },
  {
   "cell_type": "code",
   "execution_count": 300,
   "id": "9141e0b7",
   "metadata": {},
   "outputs": [
    {
     "data": {
      "text/plain": [
       "(torch.Size([75, 2, 2]), torch.Size([75, 2, 2]))"
      ]
     },
     "execution_count": 300,
     "metadata": {},
     "output_type": "execute_result"
    }
   ],
   "source": [
    "y = tempMF.user_embeddings[:,:,1:].detach()\n",
    "X = tempMF.user_embeddings[:,:,:-1].detach()\n",
    "X.shape, y.shape"
   ]
  },
  {
   "cell_type": "code",
   "execution_count": 309,
   "id": "9b1bf4ce",
   "metadata": {},
   "outputs": [
    {
     "name": "stdout",
     "output_type": "stream",
     "text": [
      "tensor(2.2620, grad_fn=<AddBackward0>)\n"
     ]
    }
   ],
   "source": [
    "#Initializing weights and biases\n",
    "A = torch.randn(tempMF.n_users, tempMF.n_factors, tempMF.n_factors, requires_grad=True)\n",
    "b = torch.randn(tempMF.n_users, tempMF.n_factors, requires_grad=True)\n",
    "\n",
    "# Define the model\n",
    "def transition_model(X, A, b):\n",
    "    return torch.einsum('idt,zdd->idt', X, A) + b[:, None]\n",
    "\n",
    "# regularization parameter\n",
    "reg = 0.01\n",
    "lr = 1e-4\n",
    "\n",
    "#MSE loss\n",
    "def mse(t1, t2):\n",
    "    diff = t1 - t2\n",
    "    return torch.sum(diff*diff)/(2 * diff.shape[-1]) + reg * torch.norm(A, 1)\n",
    "\n",
    "losses = []\n",
    "\n",
    "\n",
    "# Train for 100 epochs\n",
    "for i in range(100000):\n",
    "    preds = transition_model(X, A, b)\n",
    "    loss = mse(preds, y)\n",
    "    losses.append(loss.detach().numpy())\n",
    "    if i == 0:\n",
    "        loss.backward(retain_graph=True)\n",
    "    else:\n",
    "        loss.backward()\n",
    "    with torch.no_grad():\n",
    "        A -= A.grad * lr\n",
    "        b -= b.grad * lr\n",
    "        A.grad.zero_()\n",
    "        b.grad.zero_()\n",
    "\n",
    "# Calculate loss\n",
    "preds = transition_model(X, A, b)\n",
    "loss = mse(preds, y)\n",
    "print(loss)"
   ]
  },
  {
   "cell_type": "code",
   "execution_count": 311,
   "id": "86ac58ad",
   "metadata": {},
   "outputs": [
    {
     "data": {
      "text/plain": [
       "[<matplotlib.lines.Line2D at 0x234f62aeb50>]"
      ]
     },
     "execution_count": 311,
     "metadata": {},
     "output_type": "execute_result"
    },
    {
     "data": {
      "image/png": "[encoded data removed]",
      "text/plain": [
       "<Figure size 640x480 with 1 Axes>"
      ]
     },
     "metadata": {},
     "output_type": "display_data"
    }
   ],
   "source": [
    "plt.plot(losses[1000:])"
   ]
  },
  {
   "cell_type": "code",
   "execution_count": 312,
   "id": "a5352b4d",
   "metadata": {},
   "outputs": [
    {
     "data": {
      "text/plain": [
       "0.15342193366386822"
      ]
     },
     "execution_count": 312,
     "metadata": {},
     "output_type": "execute_result"
    }
   ],
   "source": [
    "embeddings_2 = transition_model(X[:, :, 0].unsqueeze(2), A, b)\n",
    "embeddings_3 = transition_model(embeddings_2[:, :, 0].unsqueeze(2), A, b)\n",
    "all_embeddings = [X[:, :, 0], embeddings_2[:, :, 0], embeddings_3[:, :, 0]]\n",
    "preds = []\n",
    "\n",
    "for _, row in train_updated.iterrows():\n",
    "    user, item = torch.tensor(row['user_id_for_model']).to(torch.int), torch.tensor(row['movie_id_for_model']).to(torch.int) \n",
    "    user_emb = all_embeddings[int(row['bin'])][int(user), :].squeeze()\n",
    "    item_emb = tempMF.item_embeddings(item)\n",
    "    preds.append(nn.functional.sigmoid(torch.dot(user_emb, item_emb)).detach().numpy())\n",
    "\n",
    "rmse(train_updated['rating'], np.array(preds))"
   ]
  },
  {
   "cell_type": "code",
   "execution_count": 298,
   "id": "9cfedcef",
   "metadata": {},
   "outputs": [
    {
     "data": {
      "text/plain": [
       "0.15427275293533046"
      ]
     },
     "execution_count": 298,
     "metadata": {},
     "output_type": "execute_result"
    }
   ],
   "source": [
    "preds = []\n",
    "\n",
    "for _, row in train_updated.iterrows():\n",
    "    user, item = torch.tensor(row['user_id_for_model']).to(torch.int), torch.tensor(row['movie_id_for_model']).to(torch.int) \n",
    "    user_emb = X[int(user), :, 0].squeeze()\n",
    "    item_emb = tempMF.item_embeddings(item)\n",
    "    preds.append(nn.functional.sigmoid(torch.dot(user_emb, item_emb)).detach().numpy())\n",
    "\n",
    "rmse(train_updated['rating'], np.array(preds))"
   ]
  }
 ],
 "metadata": {
  "colab": {
   "provenance": []
  },
  "kernelspec": {
   "display_name": "Python 3",
   "language": "python",
   "name": "python3"
  },
  "language_info": {
   "codemirror_mode": {
    "name": "ipython",
    "version": 3
   },
   "file_extension": ".py",
   "mimetype": "text/x-python",
   "name": "python",
   "nbconvert_exporter": "python",
   "pygments_lexer": "ipython3",
   "version": "3.11.5"
  }
 },
 "nbformat": 4,
 "nbformat_minor": 5
}
