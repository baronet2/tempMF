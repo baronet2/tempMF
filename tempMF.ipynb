{
 "cells": [
  {
   "cell_type": "markdown",
   "id": "8cba4b44",
   "metadata": {},
   "source": [
    "## Import and Load"
   ]
  },
  {
   "cell_type": "code",
   "execution_count": 1,
   "id": "8b842d38",
   "metadata": {},
   "outputs": [],
   "source": [
    "import pandas as pd\n",
    "import numpy as np\n",
    "import torch\n",
    "import torch.nn as nn\n",
    "import torch.optim as optim\n",
    "import matplotlib.pyplot as plt"
   ]
  },
  {
   "cell_type": "code",
   "execution_count": 2,
   "id": "d12a6485",
   "metadata": {},
   "outputs": [
    {
     "data": {
      "text/plain": [
       "<torch._C.Generator at 0x232f5093e50>"
      ]
     },
     "execution_count": 2,
     "metadata": {},
     "output_type": "execute_result"
    }
   ],
   "source": [
    "# seeds \n",
    "seed = 12341\n",
    "np.random.seed(seed)\n",
    "torch.manual_seed(seed)"
   ]
  },
  {
   "cell_type": "code",
   "execution_count": 23,
   "metadata": {
    "colab": {
     "base_uri": "https://localhost:8080/",
     "height": 808
    },
    "id": "fdfd55e6",
    "outputId": "91c0b3df-e2c9-4ac7-b083-113ddcc46721",
    "scrolled": true
   },
   "outputs": [
    {
     "data": {
      "text/html": [
       "<div>\n",
       "<style scoped>\n",
       "    .dataframe tbody tr th:only-of-type {\n",
       "        vertical-align: middle;\n",
       "    }\n",
       "\n",
       "    .dataframe tbody tr th {\n",
       "        vertical-align: top;\n",
       "    }\n",
       "\n",
       "    .dataframe thead th {\n",
       "        text-align: right;\n",
       "    }\n",
       "</style>\n",
       "<table border=\"1\" class=\"dataframe\">\n",
       "  <thead>\n",
       "    <tr style=\"text-align: right;\">\n",
       "      <th></th>\n",
       "      <th>userId</th>\n",
       "      <th>movieId</th>\n",
       "      <th>rating</th>\n",
       "      <th>timestamp</th>\n",
       "      <th>user_id_for_model</th>\n",
       "      <th>movie_id_for_model</th>\n",
       "    </tr>\n",
       "  </thead>\n",
       "  <tbody>\n",
       "    <tr>\n",
       "      <th>0</th>\n",
       "      <td>1</td>\n",
       "      <td>296</td>\n",
       "      <td>1.0</td>\n",
       "      <td>1147880044</td>\n",
       "      <td>0</td>\n",
       "      <td>163</td>\n",
       "    </tr>\n",
       "    <tr>\n",
       "      <th>1</th>\n",
       "      <td>1</td>\n",
       "      <td>306</td>\n",
       "      <td>0.7</td>\n",
       "      <td>1147868817</td>\n",
       "      <td>0</td>\n",
       "      <td>167</td>\n",
       "    </tr>\n",
       "    <tr>\n",
       "      <th>2</th>\n",
       "      <td>1</td>\n",
       "      <td>307</td>\n",
       "      <td>1.0</td>\n",
       "      <td>1147868828</td>\n",
       "      <td>0</td>\n",
       "      <td>168</td>\n",
       "    </tr>\n",
       "    <tr>\n",
       "      <th>3</th>\n",
       "      <td>1</td>\n",
       "      <td>665</td>\n",
       "      <td>1.0</td>\n",
       "      <td>1147878820</td>\n",
       "      <td>0</td>\n",
       "      <td>352</td>\n",
       "    </tr>\n",
       "    <tr>\n",
       "      <th>4</th>\n",
       "      <td>1</td>\n",
       "      <td>899</td>\n",
       "      <td>0.7</td>\n",
       "      <td>1147868510</td>\n",
       "      <td>0</td>\n",
       "      <td>422</td>\n",
       "    </tr>\n",
       "  </tbody>\n",
       "</table>\n",
       "</div>"
      ],
      "text/plain": [
       "   userId  movieId  rating   timestamp  user_id_for_model  movie_id_for_model\n",
       "0       1      296     1.0  1147880044                  0                 163\n",
       "1       1      306     0.7  1147868817                  0                 167\n",
       "2       1      307     1.0  1147868828                  0                 168\n",
       "3       1      665     1.0  1147878820                  0                 352\n",
       "4       1      899     0.7  1147868510                  0                 422"
      ]
     },
     "execution_count": 23,
     "metadata": {},
     "output_type": "execute_result"
    }
   ],
   "source": [
    "train = pd.read_csv(\"data/ml-25m/ratings.csv\").dropna().head(10000)\n",
    "train['rating'] = train['rating'] / train['rating'].max()\n",
    "\n",
    "train['user_id_for_model'] = train['userId'].astype('category').cat.codes\n",
    "train['movie_id_for_model'] = train['movieId'].astype('category').cat.codes\n",
    "\n",
    "train.head()"
   ]
  },
  {
   "cell_type": "markdown",
   "id": "dc849f6e",
   "metadata": {},
   "source": [
    "## PMF"
   ]
  },
  {
   "cell_type": "code",
   "execution_count": 113,
   "id": "c3ca5f6a",
   "metadata": {},
   "outputs": [],
   "source": [
    "from numpy.random import RandomState\n",
    "\n",
    "class PMF(nn.Module):\n",
    "\tdef __init__(self, n_users, n_items, n_factors=20, is_sparse=False, no_cuda=None):\n",
    "\t\tsuper(PMF, self).__init__()\n",
    "\t\tself.n_users = n_users\n",
    "\t\tself.n_items = n_items\n",
    "\t\tself.n_factors = n_factors\n",
    "\t\tself.random_state = RandomState(1)\n",
    "\n",
    "\t\t# M,D\n",
    "\t\tself.user_embeddings = nn.Embedding(n_users, n_factors, sparse=is_sparse)\n",
    "\t\tself.user_embeddings.weight.data = torch.from_numpy(self.random_state.rand(n_users, n_factors)).float()\n",
    "\t\t\n",
    "\t\t# NxD\n",
    "\t\tself.item_embeddings = nn.Embedding(n_items, n_factors, sparse=is_sparse)\n",
    "\t\tself.item_embeddings.weight.data = torch.from_numpy(self.random_state.rand(n_items, n_factors)).float()\n",
    "\n",
    "\n",
    "\t\tself.relu = nn.ReLU()\n",
    "\t\n",
    "\tdef forward(self, users_index=None, items_index=None):\n",
    "\t\tif users_index is not None and items_index is not None:\n",
    "\t\t\tuser_h1 = self.user_embeddings(users_index)\n",
    "\t\t\titem_h1 = self.item_embeddings(items_index)\n",
    "\t\t\tR_h = torch.dot(user_h1, item_h1)\n",
    "\t\telse:\n",
    "\t\t\tR_h = self.item_embeddings.weight.data @ self.user_embeddings.weight.data.T\n",
    "\t\treturn nn.functional.sigmoid(R_h)\n",
    "\n",
    "\tdef __call__(self, *args):\n",
    "\t\treturn self.forward(*args)\n",
    "\n",
    "\n",
    "\tdef predict(self, users_index=None, items_index=None):\n",
    "\t\t# preds = self.forward(users_index, items_index)\n",
    "\t\tif users_index and items_index:\n",
    "\t\t\tpreds = self.forward(users_index, items_index)\n",
    "\t\telse:\n",
    "\t\t\tuser_h1 = self.user_embeddings(users_index)\n",
    "\t\t\titem_h1 = self.item_embeddings(items_index)\n",
    "\t\t\tpreds = (user_h1 * item_h1).sum(1)\n",
    "\t\treturn preds\n",
    "\n",
    "\n",
    "def RMSE(preds, truth):\n",
    "    return np.sqrt(np.mean(np.square(preds-truth)))"
   ]
  },
  {
   "cell_type": "code",
   "execution_count": 114,
   "id": "2b8b2f03",
   "metadata": {},
   "outputs": [
    {
     "name": "stdout",
     "output_type": "stream",
     "text": [
      "epoch 1\n",
      "epoch 2\n",
      "epoch 3\n",
      "epoch 4\n",
      "epoch 5\n",
      "epoch 6\n",
      "epoch 7\n",
      "epoch 8\n",
      "epoch 9\n",
      "epoch 10\n"
     ]
    },
    {
     "data": {
      "text/plain": [
       "[<matplotlib.lines.Line2D at 0x233b31f12d0>]"
      ]
     },
     "execution_count": 114,
     "metadata": {},
     "output_type": "execute_result"
    },
    {
     "data": {
      "image/png": "[encoded data removed]",
      "text/plain": [
       "<Figure size 640x480 with 1 Axes>"
      ]
     },
     "metadata": {},
     "output_type": "display_data"
    }
   ],
   "source": [
    "model = PMF(n_users=train['user_id_for_model'].max() + 1, n_items=train['movie_id_for_model'].max() + 1, n_factors=2)\n",
    "\n",
    "epochs = 10\n",
    "lr = 0.1\n",
    "reg = 0.01\n",
    "\n",
    "loss_SGD = []\n",
    "\n",
    "for i in range(epochs):\n",
    "    print(\"epoch\", i + 1)\n",
    "    interim = 0\n",
    "    \n",
    "    for _, row in train.iterrows():\n",
    "      user, item = torch.tensor(row['user_id_for_model']).to(torch.int), torch.tensor(row['movie_id_for_model']).to(torch.int)\n",
    "      # making a pridiction in forward pass\n",
    "      y_hat = model.forward(users_index=user, items_index=item)\n",
    "      error = row['rating'] - y_hat\n",
    "\n",
    "      interim += np.square(error.detach().numpy())\n",
    "      \n",
    "      # updates\n",
    "      # Pi ← Pi + α(eij Qj − λPi ) \n",
    "      model.user_embeddings.weight.data[user, :] = \\\n",
    "        model.user_embeddings.weight.data[user, :] + \\\n",
    "        lr * (error * model.item_embeddings.weight.data[item, :] - reg * model.user_embeddings.weight.data[user, :])\n",
    "      # Qj ← Qj + α(eij Pi − λQj )\n",
    "      model.item_embeddings.weight.data[item, :] = \\\n",
    "        model.item_embeddings.weight.data[item, :] + \\\n",
    "        lr * (error * model.user_embeddings.weight.data[user, :] - reg * model.item_embeddings.weight.data[item, :])\n",
    "    loss_SGD.append(interim)\n",
    "\n",
    "plt.plot(loss_SGD)"
   ]
  },
  {
   "cell_type": "code",
   "execution_count": 115,
   "id": "878ac8ef",
   "metadata": {},
   "outputs": [
    {
     "data": {
      "text/plain": [
       "10000"
      ]
     },
     "execution_count": 115,
     "metadata": {},
     "output_type": "execute_result"
    }
   ],
   "source": [
    "preds = []\n",
    "for _, row in train.iterrows():\n",
    "    user, item = torch.tensor(row['user_id_for_model']).to(torch.int), torch.tensor(row['movie_id_for_model']).to(torch.int)\n",
    "    preds.append(model.forward(users_index=user, items_index=item).detach().numpy())\n",
    "\n",
    "len(preds)"
   ]
  },
  {
   "cell_type": "code",
   "execution_count": 116,
   "id": "ec244679",
   "metadata": {},
   "outputs": [
    {
     "data": {
      "text/plain": [
       "0.1543629807374657"
      ]
     },
     "execution_count": 116,
     "metadata": {},
     "output_type": "execute_result"
    }
   ],
   "source": [
    "import numpy as np\n",
    "def rmse(y_true, y_pred):\n",
    "    return np.sqrt(np.mean((y_true - y_pred)**2))\n",
    "\n",
    "rmse(train['rating'], np.array(preds))"
   ]
  },
  {
   "cell_type": "markdown",
   "id": "9f7bba5b",
   "metadata": {},
   "source": [
    "## TempMF"
   ]
  },
  {
   "cell_type": "code",
   "execution_count": 117,
   "id": "e3d9b5dc",
   "metadata": {},
   "outputs": [],
   "source": [
    "from numpy.random import RandomState\n",
    "\n",
    "class TempMF(nn.Module):\n",
    "\tdef __init__(self, n_users, t_steps, item_embeddings, n_factors=20, is_sparse=False, no_cuda=None):\n",
    "\t\tsuper(TempMF, self).__init__()\n",
    "\t\tself.n_users = n_users\n",
    "\n",
    "\t\tself.n_factors = n_factors\n",
    "\t\tself.random_state = RandomState(1)\n",
    "\n",
    "\t\tself.user_embeddings = torch.zeros([n_users, n_factors, t_steps])\n",
    "\n",
    "\t\t# N,D\n",
    "\t\tself.item_embeddings = item_embeddings\n",
    "\n",
    "\t\tself.relu = nn.ReLU()\n",
    "\t\n",
    "\tdef forward(self, time_index, users_index=None, items_index=None):\n",
    "\t\tif users_index!=None and items_index!=None:\n",
    "\t\t\tuser_h1 = self.user_embeddings[users_index,:,time_index]\n",
    "\t\t\titem_h1 = self.item_embeddings(items_index)\n",
    "\t\t\tR_h = torch.dot(user_h1, item_h1)\n",
    "\t\telse:\n",
    "\t\t\tR_h = self.item_embeddings.weight.data @ self.user_embeddings[:,:,time_index].T\n",
    "\t\treturn nn.functional.sigmoid(R_h)\n",
    "\n",
    "\tdef __call__(self, *args):\n",
    "\t\treturn self.forward(*args)\n",
    "\n",
    "\tdef predict(self, time_index, users_index=None, items_index=None):\n",
    "\t\tpreds = self.forward(time_index, users_index, items_index)\n",
    "\t\treturn preds"
   ]
  },
  {
   "cell_type": "code",
   "execution_count": 118,
   "id": "0e1edfb2",
   "metadata": {},
   "outputs": [
    {
     "data": {
      "text/html": [
       "<div>\n",
       "<style scoped>\n",
       "    .dataframe tbody tr th:only-of-type {\n",
       "        vertical-align: middle;\n",
       "    }\n",
       "\n",
       "    .dataframe tbody tr th {\n",
       "        vertical-align: top;\n",
       "    }\n",
       "\n",
       "    .dataframe thead th {\n",
       "        text-align: right;\n",
       "    }\n",
       "</style>\n",
       "<table border=\"1\" class=\"dataframe\">\n",
       "  <thead>\n",
       "    <tr style=\"text-align: right;\">\n",
       "      <th></th>\n",
       "      <th>userId</th>\n",
       "      <th>movieId</th>\n",
       "      <th>rating</th>\n",
       "      <th>timestamp</th>\n",
       "      <th>user_id_for_model</th>\n",
       "      <th>movie_id_for_model</th>\n",
       "      <th>bin</th>\n",
       "    </tr>\n",
       "  </thead>\n",
       "  <tbody>\n",
       "    <tr>\n",
       "      <th>7868</th>\n",
       "      <td>61</td>\n",
       "      <td>919</td>\n",
       "      <td>1.0</td>\n",
       "      <td>986611359</td>\n",
       "      <td>60</td>\n",
       "      <td>437</td>\n",
       "      <td>0</td>\n",
       "    </tr>\n",
       "    <tr>\n",
       "      <th>7808</th>\n",
       "      <td>61</td>\n",
       "      <td>82</td>\n",
       "      <td>0.8</td>\n",
       "      <td>986603962</td>\n",
       "      <td>60</td>\n",
       "      <td>53</td>\n",
       "      <td>0</td>\n",
       "    </tr>\n",
       "    <tr>\n",
       "      <th>7809</th>\n",
       "      <td>61</td>\n",
       "      <td>125</td>\n",
       "      <td>0.6</td>\n",
       "      <td>986605048</td>\n",
       "      <td>60</td>\n",
       "      <td>75</td>\n",
       "      <td>0</td>\n",
       "    </tr>\n",
       "    <tr>\n",
       "      <th>7810</th>\n",
       "      <td>61</td>\n",
       "      <td>153</td>\n",
       "      <td>0.8</td>\n",
       "      <td>986604153</td>\n",
       "      <td>60</td>\n",
       "      <td>83</td>\n",
       "      <td>0</td>\n",
       "    </tr>\n",
       "    <tr>\n",
       "      <th>7811</th>\n",
       "      <td>61</td>\n",
       "      <td>180</td>\n",
       "      <td>0.8</td>\n",
       "      <td>986609615</td>\n",
       "      <td>60</td>\n",
       "      <td>100</td>\n",
       "      <td>0</td>\n",
       "    </tr>\n",
       "    <tr>\n",
       "      <th>...</th>\n",
       "      <td>...</td>\n",
       "      <td>...</td>\n",
       "      <td>...</td>\n",
       "      <td>...</td>\n",
       "      <td>...</td>\n",
       "      <td>...</td>\n",
       "      <td>...</td>\n",
       "    </tr>\n",
       "    <tr>\n",
       "      <th>4517</th>\n",
       "      <td>29</td>\n",
       "      <td>4450</td>\n",
       "      <td>0.8</td>\n",
       "      <td>1340067706</td>\n",
       "      <td>28</td>\n",
       "      <td>1766</td>\n",
       "      <td>2</td>\n",
       "    </tr>\n",
       "    <tr>\n",
       "      <th>4516</th>\n",
       "      <td>29</td>\n",
       "      <td>3477</td>\n",
       "      <td>0.7</td>\n",
       "      <td>1340066099</td>\n",
       "      <td>28</td>\n",
       "      <td>1505</td>\n",
       "      <td>2</td>\n",
       "    </tr>\n",
       "    <tr>\n",
       "      <th>4515</th>\n",
       "      <td>29</td>\n",
       "      <td>3247</td>\n",
       "      <td>0.3</td>\n",
       "      <td>1340065797</td>\n",
       "      <td>28</td>\n",
       "      <td>1419</td>\n",
       "      <td>2</td>\n",
       "    </tr>\n",
       "    <tr>\n",
       "      <th>4513</th>\n",
       "      <td>29</td>\n",
       "      <td>2771</td>\n",
       "      <td>0.8</td>\n",
       "      <td>1340067801</td>\n",
       "      <td>28</td>\n",
       "      <td>1261</td>\n",
       "      <td>2</td>\n",
       "    </tr>\n",
       "    <tr>\n",
       "      <th>9999</th>\n",
       "      <td>75</td>\n",
       "      <td>832</td>\n",
       "      <td>0.6</td>\n",
       "      <td>1537208657</td>\n",
       "      <td>74</td>\n",
       "      <td>404</td>\n",
       "      <td>2</td>\n",
       "    </tr>\n",
       "  </tbody>\n",
       "</table>\n",
       "<p>10000 rows × 7 columns</p>\n",
       "</div>"
      ],
      "text/plain": [
       "      userId  movieId  rating   timestamp  user_id_for_model  \\\n",
       "7868      61      919     1.0   986611359                 60   \n",
       "7808      61       82     0.8   986603962                 60   \n",
       "7809      61      125     0.6   986605048                 60   \n",
       "7810      61      153     0.8   986604153                 60   \n",
       "7811      61      180     0.8   986609615                 60   \n",
       "...      ...      ...     ...         ...                ...   \n",
       "4517      29     4450     0.8  1340067706                 28   \n",
       "4516      29     3477     0.7  1340066099                 28   \n",
       "4515      29     3247     0.3  1340065797                 28   \n",
       "4513      29     2771     0.8  1340067801                 28   \n",
       "9999      75      832     0.6  1537208657                 74   \n",
       "\n",
       "      movie_id_for_model bin  \n",
       "7868                 437   0  \n",
       "7808                  53   0  \n",
       "7809                  75   0  \n",
       "7810                  83   0  \n",
       "7811                 100   0  \n",
       "...                  ...  ..  \n",
       "4517                1766   2  \n",
       "4516                1505   2  \n",
       "4515                1419   2  \n",
       "4513                1261   2  \n",
       "9999                 404   2  \n",
       "\n",
       "[10000 rows x 7 columns]"
      ]
     },
     "execution_count": 118,
     "metadata": {},
     "output_type": "execute_result"
    }
   ],
   "source": [
    "time_steps = 3\n",
    "train_updated = (\n",
    "    train\n",
    "    .assign(bin = pd.cut(train.timestamp, bins = time_steps, labels=range(time_steps)))\n",
    "    .sort_values('bin')\n",
    ")\n",
    "\n",
    "train_updated"
   ]
  },
  {
   "cell_type": "code",
   "execution_count": 220,
   "id": "c7e57d4f",
   "metadata": {},
   "outputs": [
    {
     "name": "stdout",
     "output_type": "stream",
     "text": [
      "time: 1\n",
      "Epoch 0\n",
      "Epoch 1\n",
      "Epoch 2\n",
      "Epoch 3\n",
      "Epoch 4\n",
      "Epoch 5\n",
      "Epoch 6\n",
      "Epoch 7\n",
      "Epoch 8\n",
      "Epoch 9\n",
      "time: 2\n",
      "Epoch 0\n",
      "Epoch 1\n",
      "Epoch 2\n",
      "Epoch 3\n",
      "Epoch 4\n",
      "Epoch 5\n",
      "Epoch 6\n",
      "Epoch 7\n",
      "Epoch 8\n",
      "Epoch 9\n",
      "time: 3\n",
      "Epoch 0\n",
      "Epoch 1\n",
      "Epoch 2\n",
      "Epoch 3\n",
      "Epoch 4\n",
      "Epoch 5\n",
      "Epoch 6\n",
      "Epoch 7\n",
      "Epoch 8\n",
      "Epoch 9\n"
     ]
    }
   ],
   "source": [
    "tempMF = TempMF(n_users=model.n_users, t_steps=time_steps, item_embeddings=model.item_embeddings, n_factors=model.n_factors)\n",
    "\n",
    "epochs = 10\n",
    "lr = 0.1\n",
    "reg = 0.01\n",
    "\n",
    "loss_SGD = []\n",
    "\n",
    "# time\n",
    "for t in range(time_steps):\n",
    "    print(\"time:\", t + 1)\n",
    "    tempMF.user_embeddings[:,:,t] = model.user_embeddings.weight.data\n",
    "\n",
    "    # iterations\n",
    "    for iter in range(epochs):\n",
    "      print(f\"Epoch {iter}\")\n",
    "      interim = 0\n",
    "\n",
    "      # ratings\n",
    "      for _, row in train_updated[train_updated['bin'] == t].iterrows():\n",
    "        user, item = torch.tensor(row['user_id_for_model']).to(torch.int), torch.tensor(row['movie_id_for_model']).to(torch.int)\n",
    "        y_hat = tempMF.forward(time_index=t, users_index=user, items_index=item)\n",
    "        error = row['rating'] - y_hat\n",
    "        interim += np.square(error.detach().numpy())\n",
    "        \n",
    "        tempMF.user_embeddings[user, :, t] = \\\n",
    "          tempMF.user_embeddings[user, :, t] + \\\n",
    "          lr * (error * tempMF.item_embeddings.weight.data[item, :] - reg * tempMF.user_embeddings[user, :, t])\n",
    "      loss_SGD.append(interim)\n"
   ]
  },
  {
   "cell_type": "code",
   "execution_count": 221,
   "id": "a4e3dcd6",
   "metadata": {},
   "outputs": [
    {
     "data": {
      "text/plain": [
       "[<matplotlib.lines.Line2D at 0x2345213c650>]"
      ]
     },
     "execution_count": 221,
     "metadata": {},
     "output_type": "execute_result"
    },
    {
     "data": {
      "image/png": "[encoded data removed]",
      "text/plain": [
       "<Figure size 640x480 with 1 Axes>"
      ]
     },
     "metadata": {},
     "output_type": "display_data"
    }
   ],
   "source": [
    "plt.plot(loss_SGD)"
   ]
  },
  {
   "cell_type": "code",
   "execution_count": 222,
   "id": "1854c1dd",
   "metadata": {},
   "outputs": [
    {
     "data": {
      "text/plain": [
       "0.1530349670712741"
      ]
     },
     "execution_count": 222,
     "metadata": {},
     "output_type": "execute_result"
    }
   ],
   "source": [
    "preds = []\n",
    "for _, row in train_updated.iterrows():\n",
    "    user, item = torch.tensor(row['user_id_for_model']).to(torch.int), torch.tensor(row['movie_id_for_model']).to(torch.int)\n",
    "    preds.append(tempMF.forward(time_index = torch.tensor(row['bin']).to(torch.int), users_index=user, items_index=item).detach().numpy())\n",
    "\n",
    "rmse(train_updated['rating'], np.array(preds))"
   ]
  },
  {
   "cell_type": "code",
   "execution_count": 223,
   "id": "b5b00ad1",
   "metadata": {},
   "outputs": [
    {
     "data": {
      "text/plain": [
       "0.15427275293533046"
      ]
     },
     "execution_count": 223,
     "metadata": {},
     "output_type": "execute_result"
    }
   ],
   "source": [
    "preds = []\n",
    "for _, row in train_updated.iterrows():\n",
    "    user, item = torch.tensor(row['user_id_for_model']).to(torch.int), torch.tensor(row['movie_id_for_model']).to(torch.int)\n",
    "    preds.append(tempMF.forward(time_index = torch.tensor(0).to(torch.int), users_index=user, items_index=item).detach().numpy())\n",
    "rmse(train_updated['rating'], np.array(preds))"
   ]
  },
  {
   "cell_type": "markdown",
   "id": "7f8f1874",
   "metadata": {},
   "source": [
    "#### Lasso Regression: Drift"
   ]
  },
  {
   "cell_type": "code",
   "execution_count": 300,
   "id": "9141e0b7",
   "metadata": {},
   "outputs": [
    {
     "data": {
      "text/plain": [
       "(torch.Size([75, 2, 2]), torch.Size([75, 2, 2]))"
      ]
     },
     "execution_count": 300,
     "metadata": {},
     "output_type": "execute_result"
    }
   ],
   "source": [
    "y = tempMF.user_embeddings[:,:,1:].detach()\n",
    "X = tempMF.user_embeddings[:,:,:-1].detach()\n",
    "X.shape, y.shape"
   ]
  },
  {
   "cell_type": "code",
   "execution_count": 309,
   "id": "9b1bf4ce",
   "metadata": {},
   "outputs": [
    {
     "name": "stdout",
     "output_type": "stream",
     "text": [
      "tensor(2.2620, grad_fn=<AddBackward0>)\n"
     ]
    }
   ],
   "source": [
    "#Initializing weights and biases\n",
    "A = torch.randn(tempMF.n_users, tempMF.n_factors, tempMF.n_factors, requires_grad=True)\n",
    "b = torch.randn(tempMF.n_users, tempMF.n_factors, requires_grad=True)\n",
    "\n",
    "# Define the model\n",
    "def transition_model(X, A, b):\n",
    "    return torch.einsum('idt,zdd->idt', X, A) + b[:, None]\n",
    "\n",
    "# regularization parameter\n",
    "reg = 0.01\n",
    "lr = 1e-4\n",
    "\n",
    "#MSE loss\n",
    "def mse(t1, t2):\n",
    "    diff = t1 - t2\n",
    "    return torch.sum(diff*diff)/(2 * diff.shape[-1]) + reg * torch.norm(A, 1)\n",
    "\n",
    "losses = []\n",
    "\n",
    "\n",
    "# Train for 100 epochs\n",
    "for i in range(100000):\n",
    "    preds = transition_model(X, A, b)\n",
    "    loss = mse(preds, y)\n",
    "    losses.append(loss.detach().numpy())\n",
    "    if i == 0:\n",
    "        loss.backward(retain_graph=True)\n",
    "    else:\n",
    "        loss.backward()\n",
    "    with torch.no_grad():\n",
    "        A -= A.grad * lr\n",
    "        b -= b.grad * lr\n",
    "        A.grad.zero_()\n",
    "        b.grad.zero_()\n",
    "\n",
    "# Calculate loss\n",
    "preds = transition_model(X, A, b)\n",
    "loss = mse(preds, y)\n",
    "print(loss)"
   ]
  },
  {
   "cell_type": "code",
   "execution_count": 311,
   "id": "86ac58ad",
   "metadata": {},
   "outputs": [
    {
     "data": {
      "text/plain": [
       "[<matplotlib.lines.Line2D at 0x234f62aeb50>]"
      ]
     },
     "execution_count": 311,
     "metadata": {},
     "output_type": "execute_result"
    },
    {
     "data": {
      "image/png": "[encoded data removed]",
      "text/plain": [
       "<Figure size 640x480 with 1 Axes>"
      ]
     },
     "metadata": {},
     "output_type": "display_data"
    }
   ],
   "source": [
    "plt.plot(losses[1000:])"
   ]
  },
  {
   "cell_type": "code",
   "execution_count": 312,
   "id": "a5352b4d",
   "metadata": {},
   "outputs": [
    {
     "data": {
      "text/plain": [
       "0.15342193366386822"
      ]
     },
     "execution_count": 312,
     "metadata": {},
     "output_type": "execute_result"
    }
   ],
   "source": [
    "embeddings_2 = transition_model(X[:, :, 0].unsqueeze(2), A, b)\n",
    "embeddings_3 = transition_model(embeddings_2[:, :, 0].unsqueeze(2), A, b)\n",
    "all_embeddings = [X[:, :, 0], embeddings_2[:, :, 0], embeddings_3[:, :, 0]]\n",
    "preds = []\n",
    "\n",
    "for _, row in train_updated.iterrows():\n",
    "    user, item = torch.tensor(row['user_id_for_model']).to(torch.int), torch.tensor(row['movie_id_for_model']).to(torch.int) \n",
    "    user_emb = all_embeddings[int(row['bin'])][int(user), :].squeeze()\n",
    "    item_emb = tempMF.item_embeddings(item)\n",
    "    preds.append(nn.functional.sigmoid(torch.dot(user_emb, item_emb)).detach().numpy())\n",
    "\n",
    "rmse(train_updated['rating'], np.array(preds))"
   ]
  },
  {
   "cell_type": "code",
   "execution_count": 298,
   "id": "9cfedcef",
   "metadata": {},
   "outputs": [
    {
     "data": {
      "text/plain": [
       "0.15427275293533046"
      ]
     },
     "execution_count": 298,
     "metadata": {},
     "output_type": "execute_result"
    }
   ],
   "source": [
    "preds = []\n",
    "\n",
    "for _, row in train_updated.iterrows():\n",
    "    user, item = torch.tensor(row['user_id_for_model']).to(torch.int), torch.tensor(row['movie_id_for_model']).to(torch.int) \n",
    "    user_emb = X[int(user), :, 0].squeeze()\n",
    "    item_emb = tempMF.item_embeddings(item)\n",
    "    preds.append(nn.functional.sigmoid(torch.dot(user_emb, item_emb)).detach().numpy())\n",
    "\n",
    "rmse(train_updated['rating'], np.array(preds))"
   ]
  }
 ],
 "metadata": {
  "colab": {
   "provenance": []
  },
  "kernelspec": {
   "display_name": "Python 3",
   "language": "python",
   "name": "python3"
  },
  "language_info": {
   "codemirror_mode": {
    "name": "ipython",
    "version": 3
   },
   "file_extension": ".py",
   "mimetype": "text/x-python",
   "name": "python",
   "nbconvert_exporter": "python",
   "pygments_lexer": "ipython3",
   "version": "3.11.5"
  }
 },
 "nbformat": 4,
 "nbformat_minor": 5
}
